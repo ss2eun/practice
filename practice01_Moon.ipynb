{
 "cells": [
  {
   "cell_type": "code",
   "execution_count": 2,
   "id": "b1e706ed-f025-4725-953d-32b62c2ce704",
   "metadata": {},
   "outputs": [
    {
     "name": "stdout",
     "output_type": "stream",
     "text": [
      "python version: 3.9.7 (default, Sep 16 2021, 13:09:58) \n",
      "[GCC 7.5.0]\n",
      "PCSE version: 5.5.0\n"
     ]
    }
   ],
   "source": [
    "%matplotlib inline\n",
    "import sys\n",
    "import matplotlib\n",
    "matplotlib.style.use(\"ggplot\")\n",
    "import matplotlib.pyplot as plt\n",
    "\n",
    "import yaml\n",
    "\n",
    "import pandas as pd\n",
    "import numpy as np\n",
    "\n",
    "from hyperopt import tpe, hp, fmin\n",
    "\n",
    "import os\n",
    "import pcse\n",
    "from pcse.models import Wofost72_PP\n",
    "from pcse.base import ParameterProvider\n",
    "from pcse.db import NASAPowerWeatherDataProvider\n",
    "from pcse.fileinput import YAMLAgroManagementReader, YAMLCropDataProvider\n",
    "from pcse.util import WOFOST72SiteDataProvider, DummySoilDataProvider\n",
    "print('python version: %s' % sys.version)\n",
    "print('PCSE version: %s' %  pcse.__version__)"
   ]
  },
  {
   "cell_type": "code",
   "execution_count": 3,
   "id": "b21b6a16-bde9-4efa-9cf1-0d51628c7515",
   "metadata": {},
   "outputs": [
    {
     "name": "stdout",
     "output_type": "stream",
     "text": [
      "Weather data provided by: NASAPowerWeatherDataProvider\n",
      "--------Description---------\n",
      "NASA/POWER CERES/MERRA2 Native Resolution Daily Data\n",
      "----Site characteristics----\n",
      "Elevation:   47.3\n",
      "Latitude:  37.000\n",
      "Longitude: 127.000\n",
      "Data available for 1984-01-01 - 2021-09-24\n",
      "Number of missing days: 1\n",
      "\n",
      "YAMLCropDataProvider - crop and variety not set: no activate crop parameter set!\n",
      "\n",
      "{'SMFCF': 0.3, 'SM0': 0.4, 'SMW': 0.1, 'RDMSOL': 120, 'CRAIRC': 0.06, 'K0': 10.0, 'SOPE': 10.0, 'KSUB': 10.0}\n",
      "{'IFUNRN': 0, 'NOTINF': 0, 'SSI': 0.0, 'SSMAX': 0.0, 'WAV': 50.0, 'SMLIM': 0.4, 'CO2': 360.0}\n",
      "ParameterProvider providing 15 parameters, 0 parameters overridden: dict_keys([]).\n"
     ]
    }
   ],
   "source": [
    "wdp = NASAPowerWeatherDataProvider(latitude=37, longitude=127)\n",
    "print(wdp)\n",
    "\n",
    "# Standard crop parameter library\n",
    "cropd = YAMLCropDataProvider()\n",
    "print(cropd)\n",
    "\n",
    "# We don't need soil for potential production, so we use dummy values\n",
    "soild = DummySoilDataProvider()\n",
    "print(soild)\n",
    "\n",
    "# Some site parameters\n",
    "sited = WOFOST72SiteDataProvider(WAV=50, CO2=360.)\n",
    "print(sited)\n",
    "\n",
    "# Package everyting into a single parameter object\n",
    "params = ParameterProvider(cropdata=cropd, sitedata=sited, soildata=soild)\n",
    "print(params)"
   ]
  },
  {
   "cell_type": "code",
   "execution_count": 4,
   "id": "acaa229c-8418-454a-8a45-de94508a553f",
   "metadata": {},
   "outputs": [
    {
     "name": "stderr",
     "output_type": "stream",
     "text": [
      "/tmp/ipykernel_917952/1230033294.py:14: YAMLLoadWarning: calling yaml.load() without Loader=... is deprecated, as the default Loader is unsafe. Please read https://msg.pyyaml.org/load for full details.\n",
      "  agro = yaml.load(agro_yaml)\n"
     ]
    }
   ],
   "source": [
    "agro_yaml = \"\"\"\n",
    "- 2006-01-01:\n",
    "    CropCalendar:\n",
    "        crop_name: sugarbeet\n",
    "        variety_name: Sugarbeet_603\n",
    "        crop_start_date: 2006-03-31\n",
    "        crop_start_type: emergence\n",
    "        crop_end_date: 2006-10-20\n",
    "        crop_end_type: harvest\n",
    "        max_duration: 300\n",
    "    TimedEvents: null\n",
    "    StateEvents: null\n",
    "\"\"\"\n",
    "agro = yaml.load(agro_yaml)"
   ]
  },
  {
   "cell_type": "code",
   "execution_count": 5,
   "id": "f48f01bb-d339-4011-86db-da5cf5da7e35",
   "metadata": {},
   "outputs": [
    {
     "data": {
      "text/html": [
       "<div>\n",
       "<style scoped>\n",
       "    .dataframe tbody tr th:only-of-type {\n",
       "        vertical-align: middle;\n",
       "    }\n",
       "\n",
       "    .dataframe tbody tr th {\n",
       "        vertical-align: top;\n",
       "    }\n",
       "\n",
       "    .dataframe thead th {\n",
       "        text-align: right;\n",
       "    }\n",
       "</style>\n",
       "<table border=\"1\" class=\"dataframe\">\n",
       "  <thead>\n",
       "    <tr style=\"text-align: right;\">\n",
       "      <th></th>\n",
       "      <th>day</th>\n",
       "      <th>DVS</th>\n",
       "      <th>LAI</th>\n",
       "      <th>TAGP</th>\n",
       "      <th>TWSO</th>\n",
       "      <th>TWLV</th>\n",
       "      <th>TWST</th>\n",
       "      <th>TWRT</th>\n",
       "      <th>TRA</th>\n",
       "      <th>RD</th>\n",
       "      <th>SM</th>\n",
       "      <th>WWLOW</th>\n",
       "    </tr>\n",
       "    <tr>\n",
       "      <th>day</th>\n",
       "      <th></th>\n",
       "      <th></th>\n",
       "      <th></th>\n",
       "      <th></th>\n",
       "      <th></th>\n",
       "      <th></th>\n",
       "      <th></th>\n",
       "      <th></th>\n",
       "      <th></th>\n",
       "      <th></th>\n",
       "      <th></th>\n",
       "      <th></th>\n",
       "    </tr>\n",
       "  </thead>\n",
       "  <tbody>\n",
       "    <tr>\n",
       "      <th>2006-10-16</th>\n",
       "      <td>2006-10-16</td>\n",
       "      <td>2.491900</td>\n",
       "      <td>0.575168</td>\n",
       "      <td>17056.442392</td>\n",
       "      <td>11040.695257</td>\n",
       "      <td>2968.840597</td>\n",
       "      <td>3046.906538</td>\n",
       "      <td>2340.016139</td>\n",
       "      <td>0.056159</td>\n",
       "      <td>120.0</td>\n",
       "      <td>0.3</td>\n",
       "      <td>None</td>\n",
       "    </tr>\n",
       "    <tr>\n",
       "      <th>2006-10-17</th>\n",
       "      <td>2006-10-17</td>\n",
       "      <td>2.502421</td>\n",
       "      <td>0.558715</td>\n",
       "      <td>17102.193719</td>\n",
       "      <td>11081.871452</td>\n",
       "      <td>2971.128163</td>\n",
       "      <td>3049.194105</td>\n",
       "      <td>2340.949840</td>\n",
       "      <td>0.031452</td>\n",
       "      <td>120.0</td>\n",
       "      <td>0.3</td>\n",
       "      <td>None</td>\n",
       "    </tr>\n",
       "    <tr>\n",
       "      <th>2006-10-18</th>\n",
       "      <td>2006-10-18</td>\n",
       "      <td>2.513264</td>\n",
       "      <td>0.560847</td>\n",
       "      <td>17123.517575</td>\n",
       "      <td>11101.062922</td>\n",
       "      <td>2972.194356</td>\n",
       "      <td>3050.260297</td>\n",
       "      <td>2341.385020</td>\n",
       "      <td>0.049498</td>\n",
       "      <td>120.0</td>\n",
       "      <td>0.3</td>\n",
       "      <td>None</td>\n",
       "    </tr>\n",
       "    <tr>\n",
       "      <th>2006-10-19</th>\n",
       "      <td>2006-10-19</td>\n",
       "      <td>2.524086</td>\n",
       "      <td>0.550015</td>\n",
       "      <td>17164.097312</td>\n",
       "      <td>11137.584685</td>\n",
       "      <td>2974.223343</td>\n",
       "      <td>3052.289284</td>\n",
       "      <td>2342.213178</td>\n",
       "      <td>0.032433</td>\n",
       "      <td>120.0</td>\n",
       "      <td>0.3</td>\n",
       "      <td>None</td>\n",
       "    </tr>\n",
       "    <tr>\n",
       "      <th>2006-10-20</th>\n",
       "      <td>2006-10-20</td>\n",
       "      <td>2.534586</td>\n",
       "      <td>0.530272</td>\n",
       "      <td>17186.531208</td>\n",
       "      <td>11157.775192</td>\n",
       "      <td>2975.345038</td>\n",
       "      <td>3053.410979</td>\n",
       "      <td>2342.671013</td>\n",
       "      <td>0.043408</td>\n",
       "      <td>120.0</td>\n",
       "      <td>0.3</td>\n",
       "      <td>None</td>\n",
       "    </tr>\n",
       "  </tbody>\n",
       "</table>\n",
       "</div>"
      ],
      "text/plain": [
       "                   day       DVS       LAI          TAGP          TWSO  \\\n",
       "day                                                                      \n",
       "2006-10-16  2006-10-16  2.491900  0.575168  17056.442392  11040.695257   \n",
       "2006-10-17  2006-10-17  2.502421  0.558715  17102.193719  11081.871452   \n",
       "2006-10-18  2006-10-18  2.513264  0.560847  17123.517575  11101.062922   \n",
       "2006-10-19  2006-10-19  2.524086  0.550015  17164.097312  11137.584685   \n",
       "2006-10-20  2006-10-20  2.534586  0.530272  17186.531208  11157.775192   \n",
       "\n",
       "                   TWLV         TWST         TWRT       TRA     RD   SM WWLOW  \n",
       "day                                                                            \n",
       "2006-10-16  2968.840597  3046.906538  2340.016139  0.056159  120.0  0.3  None  \n",
       "2006-10-17  2971.128163  3049.194105  2340.949840  0.031452  120.0  0.3  None  \n",
       "2006-10-18  2972.194356  3050.260297  2341.385020  0.049498  120.0  0.3  None  \n",
       "2006-10-19  2974.223343  3052.289284  2342.213178  0.032433  120.0  0.3  None  \n",
       "2006-10-20  2975.345038  3053.410979  2342.671013  0.043408  120.0  0.3  None  "
      ]
     },
     "execution_count": 5,
     "metadata": {},
     "output_type": "execute_result"
    }
   ],
   "source": [
    "wofost = Wofost72_PP(params, wdp, agro)\n",
    "wofost.run_till_terminate()\n",
    "df = pd.DataFrame(wofost.get_output())\n",
    "df.index = pd.to_datetime(df.day)\n",
    "df.tail()"
   ]
  },
  {
   "cell_type": "code",
   "execution_count": 6,
   "id": "0800ab29-a4d1-4b6f-8e9f-9640f1ed7848",
   "metadata": {},
   "outputs": [
    {
     "data": {
      "image/png": "[encoded data removed]",
      "text/plain": [
       "<Figure size 432x288 with 1 Axes>"
      ]
     },
     "metadata": {},
     "output_type": "display_data"
    }
   ],
   "source": [
    "# get daily observations for those\n",
    "ix = (df.index.dayofweek == 0) & (df.LAI.notnull())\n",
    "df_pseudo_obs = df.loc[ix]\n",
    "fig, axes = plt.subplots(figsize=(6,4))\n",
    "axes.plot_date(df_pseudo_obs.index, df_pseudo_obs.LAI)\n",
    "r = axes.set_title(\"Pseudo LAI observations\")"
   ]
  },
  {
   "cell_type": "code",
   "execution_count": 7,
   "id": "3c1671ec-aaf9-434b-a6af-3ff9e84889ba",
   "metadata": {},
   "outputs": [],
   "source": [
    "class ModelRerunner(object):\n",
    "    \"\"\"Reruns a given model with different values of parameters TWDI and SPAN.\n",
    "    \n",
    "    Returns a pandas DataFrame with simulation results of the model with given\n",
    "    parameter values.\n",
    "    \"\"\"\n",
    "\n",
    "    parameters = [\"TDWI\", \"SPAN\"]\n",
    "# sPAN = leaf span of leaves growing at 35celcius, TDWI = initial total crop dry weight\n",
    "    \n",
    "    def __init__(self, params, wdp, agro):\n",
    "        self.params = params\n",
    "        self.wdp = wdp\n",
    "        self.agro = agro\n",
    "# class -> self로 코드 재사용 가능\n",
    "    def __call__(self, par_values):\n",
    "        # Check if correct number of parameter values were provided\n",
    "        if len(par_values) != len(self.parameters):\n",
    "            msg = \"Optimizing %i parameters, but only % values were provided!\" % (len(self.parameters, len(par_values)))\n",
    "            raise RuntimeError(msg)\n",
    "        # Clear any existing overrides\n",
    "        self.params.clear_override()\n",
    "        # Set overrides for the new parameter values\n",
    "        for parname, value in zip(self.parameters, par_values):\n",
    "            self.params.set_override(parname, value)\n",
    "        # Run the model with given parameter values\n",
    "        wofost = Wofost72_PP(self.params, self.wdp, self.agro)\n",
    "        wofost.run_till_terminate()\n",
    "        df = pd.DataFrame(wofost.get_output())\n",
    "        df.index = pd.to_datetime(df.day)\n",
    "        return df"
   ]
  },
  {
   "cell_type": "code",
   "execution_count": 21,
   "id": "96673203-ba9b-42a6-bbc9-5ac09f8d0b8f",
   "metadata": {},
   "outputs": [],
   "source": [
    "class ObjectiveFunctionCalculator(object):\n",
    "    def __init__(self, params, wdp, agro, observations):\n",
    "        self.modelrerunner = ModelRerunner(params, wdp, agro)\n",
    "        self.df_observations = observations\n",
    "        self.n_calls = 0\n",
    "       \n",
    "    def __call__(self, input_params):\n",
    "        par_values = input_params['TDWI'], input_params['SPAN']\n",
    "        self.df_simulations = self.modelrerunner(par_values)\n",
    "        df_differences = self.df_simulations - self.df_observations\n",
    "        obj_func = np.mean(df_differences.LAI**2) # MSE\n",
    "        return obj_func"
   ]
  },
  {
   "cell_type": "code",
   "execution_count": 22,
   "id": "b25aadbb-0abf-42d9-8e9c-957285d87f8c",
   "metadata": {},
   "outputs": [],
   "source": [
    "objfunc_calculator = ObjectiveFunctionCalculator(params, wdp, agro, df_pseudo_obs)"
   ]
  },
  {
   "cell_type": "code",
   "execution_count": 23,
   "id": "193cf116-61e4-4ab4-83e8-4b5a5810aaef",
   "metadata": {},
   "outputs": [],
   "source": [
    "space = {'TDWI': hp.uniform('TDWI', 0.1, 0.6), 'SPAN': hp.uniform('SPAN', 30, 40)}"
   ]
  },
  {
   "cell_type": "code",
   "execution_count": null,
   "id": "a2224b9c-f266-4981-ae8c-fa4ece5fccc4",
   "metadata": {},
   "outputs": [
    {
     "name": "stdout",
     "output_type": "stream",
     "text": [
      " 92%|██▊| 920/1000 [04:29<00:24,  3.33trial/s, best loss: 0.0041346189544363456]"
     ]
    }
   ],
   "source": [
    "best = fmin(fn=objfunc_calculator, space=space, algo=tpe.suggest, max_evals=1000)"
   ]
  },
  {
   "cell_type": "code",
   "execution_count": 28,
   "id": "14ae9f35-2b0b-4758-a79d-a89bdbe47e4b",
   "metadata": {},
   "outputs": [
    {
     "name": "stdout",
     "output_type": "stream",
     "text": [
      "\n",
      "optimum at TDWI: 0.5235579043023252, SPAN: 36.87315152946893\n",
      "With 400 function calls\n"
     ]
    }
   ],
   "source": [
    "print(\"\\noptimum at TDWI: %s, SPAN: %s\" % (best['TDWI'], best['SPAN']))\n",
    "print(\"With %i function calls\" % objfunc_calculator.n_calls)"
   ]
  },
  {
   "cell_type": "code",
   "execution_count": 35,
   "id": "dcc85d22-ae84-429b-a72d-e766c415bf79",
   "metadata": {},
   "outputs": [
    {
     "data": {
      "image/png": "[encoded data removed]",
      "text/plain": [
       "<Figure size 864x576 with 1 Axes>"
      ]
     },
     "metadata": {},
     "output_type": "display_data"
    }
   ],
   "source": [
    "error = objfunc_calculator(best)\n",
    "fig, axes = plt.subplots(figsize=(12,8))\n",
    "axes.plot_date(df_pseudo_obs.index, df_pseudo_obs.LAI, label=\"Pseudo observation\")\n",
    "axes.plot_date(objfunc_calculator.df_simulations.index, objfunc_calculator.df_simulations.LAI, \"k:\", label=\"optimized\")\n",
    "axes.set_title(\"Pseudo LAI observations with optimized model.\")\n",
    "r = fig.legend()"
   ]
  }
 ],
 "metadata": {
  "kernelspec": {
   "display_name": "pcse",
   "language": "python",
   "name": "pcse"
  },
  "language_info": {
   "codemirror_mode": {
    "name": "ipython",
    "version": 3
   },
   "file_extension": ".py",
   "mimetype": "text/x-python",
   "name": "python",
   "nbconvert_exporter": "python",
   "pygments_lexer": "ipython3",
   "version": "3.9.7"
  }
 },
 "nbformat": 4,
 "nbformat_minor": 5
}
