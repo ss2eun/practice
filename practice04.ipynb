{
 "cells": [
  {
   "cell_type": "code",
   "execution_count": 3,
   "id": "2a89ec79-9be8-4c6e-9e30-cedfa82272f4",
   "metadata": {},
   "outputs": [
    {
     "name": "stdout",
     "output_type": "stream",
     "text": [
      "This notebook was built with:\n",
      "python version: 3.9.7 (default, Sep 16 2021, 13:09:58) \n",
      "[GCC 7.5.0] \n",
      "PCSE version: 5.5.0\n"
     ]
    }
   ],
   "source": [
    "%matplotlib inline\n",
    "import sys\n",
    "import matplotlib\n",
    "matplotlib.style.use(\"ggplot\")\n",
    "import matplotlib.pyplot as plt\n",
    "import yaml\n",
    "import pandas as pd\n",
    "import numpy as np\n",
    "import nlopt\n",
    "from itertools import product\n",
    "\n",
    "import pcse\n",
    "from pcse.models import Wofost72_PP\n",
    "from pcse.base import ParameterProvider\n",
    "from pcse.db import NASAPowerWeatherDataProvider\n",
    "from pcse.fileinput import YAMLAgroManagementReader, YAMLCropDataProvider\n",
    "from pcse.util import WOFOST72SiteDataProvider, DummySoilDataProvider\n",
    "print(\"This notebook was built with:\")\n",
    "print(\"python version: %s \" % sys.version)\n",
    "print(\"PCSE version: %s\" %  pcse.__version__)"
   ]
  },
  {
   "cell_type": "code",
   "execution_count": 4,
   "id": "c567a26a-2f15-4127-b153-3eb7e288591f",
   "metadata": {},
   "outputs": [],
   "source": [
    "wdp = NASAPowerWeatherDataProvider(latitude=52, longitude=5)\n",
    "cropd = YAMLCropDataProvider()\n",
    "soild = DummySoilDataProvider()\n",
    "sited = WOFOST72SiteDataProvider(WAV=50, CO2=360.)\n",
    "params = ParameterProvider(cropdata=cropd, sitedata=sited, soildata=soild)"
   ]
  },
  {
   "cell_type": "code",
   "execution_count": 5,
   "id": "9014f5a7-e4e8-4313-916a-229e98ef6250",
   "metadata": {},
   "outputs": [
    {
     "name": "stderr",
     "output_type": "stream",
     "text": [
      "/tmp/ipykernel_1005320/1976429163.py:20: YAMLLoadWarning: calling yaml.load() without Loader=... is deprecated, as the default Loader is unsafe. Please read https://msg.pyyaml.org/load for full details.\n",
      "  agro = yaml.load(agro_yaml)\n"
     ]
    }
   ],
   "source": [
    "agro_yaml = \"\"\"\n",
    "- 2006-01-01:\n",
    "    CropCalendar:\n",
    "        crop_name: spring-wheat\n",
    "        variety_name: spring-wheat-1\n",
    "        crop_start_date: 2006-03-31\n",
    "        crop_start_type: emergence\n",
    "        crop_end_date: 2006-10-20\n",
    "        crop_end_type: earliest\n",
    "        max_duration: 300\n",
    "    TimedEvents: \n",
    "    -   event_signal: apply_n\n",
    "        name:  Nitrogen application table\n",
    "        comment: All nitrogen amounts in g N m-2\n",
    "        events_table:\n",
    "        - 2006-04-10: {amount: 1, recovery: 0.7}\n",
    "        - 2006-05-05: {amount:  5, recovery: 0.7}\n",
    "    StateEvents: null\n",
    "\"\"\"        \n",
    "agro = yaml.load(agro_yaml)"
   ]
  },
  {
   "cell_type": "code",
   "execution_count": null,
   "id": "808f1f28-bfc5-4172-b1fd-13d3de7aee08",
   "metadata": {},
   "outputs": [],
   "source": []
  }
 ],
 "metadata": {
  "kernelspec": {
   "display_name": "pcse",
   "language": "python",
   "name": "pcse"
  },
  "language_info": {
   "codemirror_mode": {
    "name": "ipython",
    "version": 3
   },
   "file_extension": ".py",
   "mimetype": "text/x-python",
   "name": "python",
   "nbconvert_exporter": "python",
   "pygments_lexer": "ipython3",
   "version": "3.9.7"
  }
 },
 "nbformat": 4,
 "nbformat_minor": 5
}
